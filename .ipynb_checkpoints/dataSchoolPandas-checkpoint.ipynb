{
 "cells": [
  {
   "cell_type": "code",
   "execution_count": 1,
   "metadata": {
    "pycharm": {
     "name": "#%%\n"
    }
   },
   "outputs": [],
   "source": [
    "import pandas as pd"
   ]
  },
  {
   "cell_type": "code",
   "execution_count": 2,
   "metadata": {
    "pycharm": {
     "name": "#%%\n"
    }
   },
   "outputs": [],
   "source": [
    "# How to read from a table, organization\n",
    "food = pd.read_table('http://bit.ly/chiporders')\n",
    "titles = ['user_id', 'age', 'gender', 'occupation', 'zip code']\n",
    "emptyRows = [0, 2, 3]\n",
    "pd.read_table('http://bit.ly/movieusers', sep='|', header=None, names=titles,\n",
    "              skiprows=emptyRows);"
   ]
  },
  {
   "cell_type": "code",
   "execution_count": 3,
   "metadata": {
    "pycharm": {
     "name": "#%%\n"
    }
   },
   "outputs": [],
   "source": [
    "# How to select Series (columns/features) from a DataFrame (table)\n",
    "colNames = ['city', 'colors', 'shape of object', 'state', 'time']\n",
    "ufo = pd.read_csv('http://bit.ly/uforeports', names=colNames, header=0)\n",
    "#Create new column\n",
    "ufo.rename(columns = {'city':'City', 'state':'State'}, inplace=True)\n",
    "ufo['Location'] = ufo.City + ', ' + ufo.State"
   ]
  },
  {
   "cell_type": "code",
   "execution_count": 4,
   "metadata": {
    "pycharm": {
     "name": "#%%\n"
    }
   },
   "outputs": [
    {
     "data": {
      "text/plain": [
       "City               object\n",
       "colors             object\n",
       "shape_of_object    object\n",
       "State              object\n",
       "time               object\n",
       "Location           object\n",
       "dtype: object"
      ]
     },
     "execution_count": 4,
     "metadata": {},
     "output_type": "execute_result"
    }
   ],
   "source": [
    "# Useful functions\n",
    "#Replace characters with something else- lots of useful str methods\n",
    "ufo.columns = ufo.columns.str.replace(' ', '_')\n",
    "ufo.shape;\n",
    "#Statistics of each column\n",
    "ufo.describe()\n",
    "#First 5 rows\n",
    "ufo.head()\n",
    "#Types of data in each column (object is string)\n",
    "ufo.dtypes"
   ]
  },
  {
   "cell_type": "code",
   "execution_count": 5,
   "metadata": {
    "pycharm": {
     "name": "#%%\n"
    }
   },
   "outputs": [],
   "source": [
    "# Sorting series and dataframes\n",
    "#Sort series\n",
    "movies = pd.read_csv('http://bit.ly/imdbratings')\n",
    "sortedTitle = movies.title.sort_values(ascending=False)\n",
    "#Sort dataframe by series\n",
    "sortedMovies = movies.sort_values('duration', ascending=False)\n",
    "#initially content rating, then by duration\n",
    "movies.sort_values(['content_rating', 'duration']);"
   ]
  },
  {
   "cell_type": "code",
   "execution_count": 6,
   "metadata": {
    "pycharm": {
     "name": "#%%\n"
    }
   },
   "outputs": [],
   "source": [
    "# Filter rows by column value\n",
    "filtered = movies[(movies.duration <= 200) & (movies.genre == 'Crime')]\n",
    "#If there's multiple filter values\n",
    "filtered = movies[movies.genre.isin(['Crime', 'Action', 'Drama'])]\n",
    "#isin() also creates a boolean series"
   ]
  },
  {
   "cell_type": "code",
   "execution_count": 7,
   "metadata": {
    "pycharm": {
     "name": "#%%\n"
    }
   },
   "outputs": [],
   "source": [
    "#Delete a column/row that is not needed\n",
    "ufo.drop(['colors', 'time'], axis=1, inplace=True)"
   ]
  },
  {
   "cell_type": "code",
   "execution_count": 17,
   "metadata": {
    "pycharm": {
     "name": "#%%\n"
    }
   },
   "outputs": [
    {
     "ename": "AttributeError",
     "evalue": "'Index' object has no attribute 'attributes'",
     "output_type": "error",
     "traceback": [
      "\u001b[0;31m---------------------------------------------------------------------------\u001b[0m",
      "\u001b[0;31mAttributeError\u001b[0m                            Traceback (most recent call last)",
      "\u001b[0;32m<ipython-input-17-574bcc4e2d03>\u001b[0m in \u001b[0;36m<module>\u001b[0;34m\u001b[0m\n\u001b[0;32m----> 1\u001b[0;31m \u001b[0mmovies\u001b[0m\u001b[0;34m.\u001b[0m\u001b[0mcolumns\u001b[0m\u001b[0;34m.\u001b[0m\u001b[0mattributes\u001b[0m\u001b[0;34m\u001b[0m\u001b[0;34m\u001b[0m\u001b[0m\n\u001b[0m",
      "\u001b[0;31mAttributeError\u001b[0m: 'Index' object has no attribute 'attributes'"
     ]
    }
   ],
   "source": [
    "movies.columns"
   ]
  },
  {
   "cell_type": "code",
   "execution_count": 15,
   "metadata": {},
   "outputs": [
    {
     "ename": "NameError",
     "evalue": "name 'isnumeric' is not defined",
     "output_type": "error",
     "traceback": [
      "\u001b[0;31m---------------------------------------------------------------------------\u001b[0m",
      "\u001b[0;31mNameError\u001b[0m                                 Traceback (most recent call last)",
      "\u001b[0;32m<ipython-input-15-239714b6ec32>\u001b[0m in \u001b[0;36m<module>\u001b[0;34m\u001b[0m\n\u001b[0;32m----> 1\u001b[0;31m \u001b[0misnumeric\u001b[0m\u001b[0;34m(\u001b[0m\u001b[0;34m)\u001b[0m\u001b[0;34m\u001b[0m\u001b[0;34m\u001b[0m\u001b[0m\n\u001b[0m",
      "\u001b[0;31mNameError\u001b[0m: name 'isnumeric' is not defined"
     ]
    }
   ],
   "source": []
  }
 ],
 "metadata": {
  "kernelspec": {
   "display_name": "Python 3",
   "language": "python",
   "name": "python3"
  },
  "language_info": {
   "codemirror_mode": {
    "name": "ipython",
    "version": 3
   },
   "file_extension": ".py",
   "mimetype": "text/x-python",
   "name": "python",
   "nbconvert_exporter": "python",
   "pygments_lexer": "ipython3",
   "version": "3.7.7"
  }
 },
 "nbformat": 4,
 "nbformat_minor": 1
}
