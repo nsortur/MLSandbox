{
 "cells": [
  {
   "cell_type": "code",
   "execution_count": 1,
   "metadata": {
    "collapsed": true,
    "pycharm": {
     "name": "#%%\n"
    }
   },
   "outputs": [],
   "source": [
    "import pandas as pd\n",
    "import numpy as np"
   ]
  },
  {
   "cell_type": "code",
   "execution_count": 2,
   "outputs": [],
   "source": [
    "# How to read from a table, organization\n",
    "food = pd.read_table('http://bit.ly/chiporders')\n",
    "titles = ['user_id', 'age', 'gender', 'occupation', 'zip code']\n",
    "emptyRows = [0, 2, 3]\n",
    "pd.read_table('http://bit.ly/movieusers', sep='|', header=None, names=titles,\n",
    "              skiprows=emptyRows);"
   ],
   "metadata": {
    "collapsed": false,
    "pycharm": {
     "name": "#%%\n"
    }
   }
  },
  {
   "cell_type": "code",
   "execution_count": 3,
   "outputs": [],
   "source": [
    "# How to select Series (columns/features) from a DataFrame (table)\n",
    "colNames = ['city', 'colors', 'shape of object', 'state', 'time']\n",
    "ufo = pd.read_csv('http://bit.ly/uforeports', names=colNames, header=0)\n",
    "#Create new column\n",
    "ufo.rename(columns = {'city':'City', 'state':'State'}, inplace=True)\n",
    "ufo['Location'] = ufo.City + ', ' + ufo.State"
   ],
   "metadata": {
    "collapsed": false,
    "pycharm": {
     "name": "#%%\n"
    }
   }
  },
  {
   "cell_type": "code",
   "execution_count": 4,
   "outputs": [
    {
     "data": {
      "text/plain": "City               object\ncolors             object\nshape_of_object    object\nState              object\ntime               object\nLocation           object\ndtype: object"
     },
     "execution_count": 4,
     "metadata": {},
     "output_type": "execute_result"
    }
   ],
   "source": [
    "# Useful functions\n",
    "#Replace characters with something else- lots of useful str methods\n",
    "ufo.columns = ufo.columns.str.replace(' ', '_')\n",
    "ufo.shape;\n",
    "#Statistics of each column\n",
    "ufo.describe()\n",
    "#First 5 rows\n",
    "ufo.head()\n",
    "#Types of data in each column (object is string)\n",
    "ufo.dtypes"
   ],
   "metadata": {
    "collapsed": false,
    "pycharm": {
     "name": "#%%\n"
    }
   }
  },
  {
   "cell_type": "code",
   "execution_count": 5,
   "outputs": [],
   "source": [
    "# Sorting series and dataframes\n",
    "#Sort series\n",
    "movies = pd.read_csv('http://bit.ly/imdbratings')\n",
    "sortedTitle = movies.title.sort_values(ascending=False)\n",
    "#Sort dataframe by series\n",
    "sortedMovies = movies.sort_values('duration', ascending=False)\n",
    "#initially content rating, then by duration\n",
    "movies.sort_values(['content_rating', 'duration']);"
   ],
   "metadata": {
    "collapsed": false,
    "pycharm": {
     "name": "#%%\n"
    }
   }
  },
  {
   "cell_type": "code",
   "execution_count": 6,
   "outputs": [],
   "source": [
    "# Filter rows by column value\n",
    "filtered = movies[(movies.duration <= 200) & (movies.genre == 'Crime')]\n",
    "#If there's multiple filter values\n",
    "filtered = movies[movies.genre.isin(['Crime', 'Action', 'Drama'])]\n",
    "#isin() also creates a boolean series"
   ],
   "metadata": {
    "collapsed": false,
    "pycharm": {
     "name": "#%%\n"
    }
   }
  },
  {
   "cell_type": "code",
   "execution_count": 7,
   "outputs": [],
   "source": [
    "#Delete a column/row that is not needed\n",
    "ufo.drop(['colors', 'time'], axis=1, inplace=True)"
   ],
   "metadata": {
    "collapsed": false,
    "pycharm": {
     "name": "#%%\n"
    }
   }
  },
  {
   "cell_type": "code",
   "execution_count": 8,
   "outputs": [
    {
     "data": {
      "text/plain": "star_rating       float64\ntitle              object\ncontent_rating     object\ngenre              object\nduration            int64\nactors_list        object\ndtype: object"
     },
     "execution_count": 8,
     "metadata": {},
     "output_type": "execute_result"
    }
   ],
   "source": [
    "movies = pd.read_csv('http://bit.ly/imdbratings')\n",
    "#Delete non-numeric columns\n",
    "#movies = movies.select_dtypes()\n",
    "movies.dtypes"
   ],
   "metadata": {
    "collapsed": false,
    "pycharm": {
     "name": "#%%\n"
    }
   }
  }
 ],
 "metadata": {
  "kernelspec": {
   "display_name": "Python 3",
   "language": "python",
   "name": "python3"
  },
  "language_info": {
   "codemirror_mode": {
    "name": "ipython",
    "version": 2
   },
   "file_extension": ".py",
   "mimetype": "text/x-python",
   "name": "python",
   "nbconvert_exporter": "python",
   "pygments_lexer": "ipython2",
   "version": "2.7.6"
  }
 },
 "nbformat": 4,
 "nbformat_minor": 0
}