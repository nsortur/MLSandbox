{
 "cells": [
  {
   "cell_type": "code",
   "execution_count": 66,
   "metadata": {
    "collapsed": true
   },
   "outputs": [
    {
     "name": "stdout",
     "output_type": "stream",
     "text": [
      "There are 1797 training examples and 64 features\n"
     ]
    }
   ],
   "source": [
    "import random\n",
    "import numpy as np\n",
    "from math import floor\n",
    "import matplotlib.pyplot as plt\n",
    "from sklearn import datasets, svm\n",
    "from sklearn.metrics import classification_report\n",
    "\n",
    "#use scikit-learn's digits toy dataset\n",
    "digits = datasets.load_digits()\n",
    "print(f'There are {digits.data.shape[0]} training examples and {digits.data.shape[1]} features')"
   ]
  },
  {
   "cell_type": "code",
   "execution_count": 67,
   "outputs": [],
   "source": [
    "#80% training data, 10% CV data, 10% test data, random selection later\n",
    "train_images = digits.data[:floor(len(digits.images) * .8), :]\n",
    "CV_images = digits.data[floor(len(digits.images) * .8): floor(len(digits.images) * .9), :]\n",
    "test_images = digits.data[floor(len(digits.images) * .9):, :]\n",
    "train_target = digits.target[:floor(len(digits.images) * .8)]\n",
    "CV_target = digits.target[floor(len(digits.images) * .8): floor(len(digits.images) * .9)]\n",
    "test_target = digits.target[floor(len(digits.images) * .9):]"
   ],
   "metadata": {
    "collapsed": false,
    "pycharm": {
     "name": "#%%\n"
    }
   }
  },
  {
   "cell_type": "code",
   "execution_count": 68,
   "outputs": [],
   "source": [
    "#Train parameters\n",
    "svc = svm.SVC(2)\n",
    "fit = svc.fit(np.array(train_images).reshape(-1,64), train_target)"
   ],
   "metadata": {
    "collapsed": false,
    "pycharm": {
     "name": "#%%\n"
    }
   }
  },
  {
   "cell_type": "code",
   "execution_count": 69,
   "outputs": [
    {
     "name": "stdout",
     "output_type": "stream",
     "text": [
      "Accuracy               precision    recall  f1-score   support\n",
      "\n",
      "           0       1.00      1.00      1.00        16\n",
      "           1       1.00      1.00      1.00        19\n",
      "           2       1.00      1.00      1.00        17\n",
      "           3       1.00      0.67      0.80        18\n",
      "           4       1.00      0.90      0.95        20\n",
      "           5       0.86      1.00      0.92        18\n",
      "           6       1.00      1.00      1.00        18\n",
      "           7       1.00      1.00      1.00        19\n",
      "           8       0.77      1.00      0.87        17\n",
      "           9       0.89      0.89      0.89        18\n",
      "\n",
      "    accuracy                           0.94       180\n",
      "   macro avg       0.95      0.95      0.94       180\n",
      "weighted avg       0.95      0.94      0.94       180\n",
      "\n"
     ]
    }
   ],
   "source": [
    "#Evaluate on test set\n",
    "test_predictions = svc.predict(test_images)\n",
    "print('Accuracy', classification_report(test_target, test_predictions))"
   ],
   "metadata": {
    "collapsed": false,
    "pycharm": {
     "name": "#%%\n"
    }
   }
  },
  {
   "cell_type": "code",
   "execution_count": 70,
   "outputs": [
    {
     "name": "stdout",
     "output_type": "stream",
     "text": [
      "The number we are predicting is 2\n",
      "SVC predicts: [2]\n"
     ]
    },
    {
     "data": {
      "text/plain": "<Figure size 288x288 with 1 Axes>",
      "image/png": "[encoded data removed]"
     },
     "metadata": {
      "needs_background": "light"
     },
     "output_type": "display_data"
    }
   ],
   "source": [
    "#Predict and visualize given number numIndex\n",
    "#numIndex is index in digits dataset ranging from 0 to 1797\n",
    "numIndex = 1600\n",
    "num = digits.images[numIndex]\n",
    "print('The number we are predicting is', digits.target[numIndex])\n",
    "plt.matshow(num)\n",
    "print('SVC predicts:', svc.predict(np.array(digits.images[numIndex]).reshape(-1, 64)))"
   ],
   "metadata": {
    "collapsed": false,
    "pycharm": {
     "name": "#%%\n"
    }
   }
  }
 ],
 "metadata": {
  "kernelspec": {
   "display_name": "Python 3",
   "language": "python",
   "name": "python3"
  },
  "language_info": {
   "codemirror_mode": {
    "name": "ipython",
    "version": 2
   },
   "file_extension": ".py",
   "mimetype": "text/x-python",
   "name": "python",
   "nbconvert_exporter": "python",
   "pygments_lexer": "ipython2",
   "version": "2.7.6"
  }
 },
 "nbformat": 4,
 "nbformat_minor": 0
}