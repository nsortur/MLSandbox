{
 "cells": [
  {
   "cell_type": "code",
   "execution_count": 514,
   "metadata": {
    "collapsed": true
   },
   "outputs": [
    {
     "name": "stdout",
     "output_type": "stream",
     "text": [
      "Size of X is (1797, 64)\n"
     ]
    }
   ],
   "source": [
    "import random\n",
    "import numpy as np\n",
    "from math import floor\n",
    "import matplotlib.pyplot as plt\n",
    "from sklearn import datasets, svm\n",
    "\n",
    "#use scikit-learn's digits toy dataset\n",
    "digits = datasets.load_digits()\n",
    "print('Size of X is', digits.data.shape)"
   ]
  },
  {
   "cell_type": "code",
   "execution_count": 515,
   "outputs": [],
   "source": [
    "#80% training data, 10% CV data, 10% test data, random selection later\n",
    "train_images = digits.images[:floor(len(digits.images) * .8)]\n",
    "CV_images = digits.images[floor(len(digits.images) * .8): -floor(len(digits.images) * .1)]\n",
    "train_target = digits.target[:floor(len(digits.images) * .8)]\n",
    "CV_target = digits.target[floor(len(digits.images) * .8): -floor(len(digits.images) * .1)]"
   ],
   "metadata": {
    "collapsed": false,
    "pycharm": {
     "name": "#%%\n"
    }
   }
  },
  {
   "cell_type": "code",
   "execution_count": 516,
   "outputs": [
    {
     "name": "stderr",
     "output_type": "stream",
     "text": [
      "/Users/nsortur/.conda/envs/untitled/lib/python3.7/site-packages/sklearn/utils/validation.py:760: DataConversionWarning: A column-vector y was passed when a 1d array was expected. Please change the shape of y to (n_samples, ), for example using ravel().\n",
      "  y = column_or_1d(y, warn=True)\n"
     ]
    }
   ],
   "source": [
    "#Train parameters\n",
    "svc = svm.SVC(2)\n",
    "fit = svc.fit(np.array(train_images).reshape(-1,64), np.array(train_target).reshape(-1,1))"
   ],
   "metadata": {
    "collapsed": false,
    "pycharm": {
     "name": "#%%\n"
    }
   }
  },
  {
   "cell_type": "code",
   "execution_count": 517,
   "outputs": [
    {
     "name": "stdout",
     "output_type": "stream",
     "text": [
      "Our error is 3.8674033149%\n"
     ]
    }
   ],
   "source": [
    "#Evaluate on CV set\n",
    "predictions = svc.predict(np.array(CV_images).reshape(-1,64))\n",
    "CV_target2 = np.array(CV_target)\n",
    "error = np.mean(predictions != CV_target2)\n",
    "print(f'Our error is {np.around(error * 100, 10)}%')"
   ],
   "metadata": {
    "collapsed": false,
    "pycharm": {
     "name": "#%%\n"
    }
   }
  },
  {
   "cell_type": "code",
   "execution_count": 518,
   "outputs": [
    {
     "name": "stdout",
     "output_type": "stream",
     "text": [
      "The number we are predicting is 2\n",
      "SVC predicts: [2]\n"
     ]
    },
    {
     "data": {
      "text/plain": "<Figure size 288x288 with 1 Axes>",
      "image/png": "[encoded data removed]"
     },
     "metadata": {
      "needs_background": "light"
     },
     "output_type": "display_data"
    }
   ],
   "source": [
    "#Predict and visualize given number numIndex\n",
    "#numIndex is index in digits dataset ranging from 0 to 1797\n",
    "numIndex = 1600\n",
    "num = digits.images[numIndex]\n",
    "print('The number we are predicting is', digits.target[numIndex])\n",
    "plt.matshow(num)\n",
    "print('SVC predicts:', svc.predict(np.array(digits.images[numIndex]).reshape(-1, 64)))"
   ],
   "metadata": {
    "collapsed": false,
    "pycharm": {
     "name": "#%%\n"
    }
   }
  }
 ],
 "metadata": {
  "kernelspec": {
   "display_name": "Python 3",
   "language": "python",
   "name": "python3"
  },
  "language_info": {
   "codemirror_mode": {
    "name": "ipython",
    "version": 2
   },
   "file_extension": ".py",
   "mimetype": "text/x-python",
   "name": "python",
   "nbconvert_exporter": "python",
   "pygments_lexer": "ipython2",
   "version": "2.7.6"
  }
 },
 "nbformat": 4,
 "nbformat_minor": 0
}