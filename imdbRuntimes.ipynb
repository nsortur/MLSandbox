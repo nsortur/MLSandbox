{
 "cells": [
  {
   "cell_type": "code",
   "execution_count": 15,
   "outputs": [],
   "source": [
    "#Compare runtime of drama vs comedy movie distributions, imdb dataset\n",
    "import pandas as pd\n",
    "import random\n",
    "from scipy import stats\n",
    "\n",
    "#Get random data from 1% of the file\n",
    "readProportion = 0.01\n",
    "data = pd.read_table('https://datasets.imdbws.com/title.basics.tsv.gz',\n",
    "                    header=0, skiprows=lambda i: i > 0 and random.random() > readProportion,\n",
    "                    sep='\\t')\n",
    "data = data.sample(frac=1)\n",
    "#Rids empty entries\n",
    "dataFull = data[data.runtimeMinutes != r'\\N'].copy()\n",
    "#Converts runtime minutes from string to int\n",
    "dataFull.loc[:, 'runtimeMinutes'] = dataFull.runtimeMinutes.astype(int)\n",
    "#Movies, ignoring outliers\n",
    "movies = dataFull[(dataFull.titleType == 'movie') & (dataFull.runtimeMinutes < 400)]"
   ],
   "metadata": {
    "collapsed": false,
    "pycharm": {
     "name": "#%%\n"
    }
   }
  },
  {
   "cell_type": "code",
   "execution_count": 16,
   "outputs": [],
   "source": [
    "#Filtering dramas\n",
    "drama = movies[movies.genres.str.contains('Drama')]"
   ],
   "metadata": {
    "collapsed": false,
    "pycharm": {
     "name": "#%%\n"
    }
   }
  },
  {
   "cell_type": "code",
   "execution_count": 17,
   "outputs": [],
   "source": [
    "#Filtering comedies\n",
    "comedy = movies[movies.genres.str.contains('Comedy')]"
   ],
   "metadata": {
    "collapsed": false,
    "pycharm": {
     "name": "#%%\n"
    }
   }
  },
  {
   "cell_type": "code",
   "execution_count": 18,
   "outputs": [
    {
     "data": {
      "text/plain": "<matplotlib.axes._subplots.AxesSubplot at 0x1a1d7ef210>"
     },
     "execution_count": 18,
     "metadata": {},
     "output_type": "execute_result"
    },
    {
     "data": {
      "text/plain": "<Figure size 432x288 with 1 Axes>",
      "image/png": "[encoded data removed]"
     },
     "metadata": {
      "needs_background": "light"
     },
     "output_type": "display_data"
    }
   ],
   "source": [
    "#Plot series as histograms\n",
    "dramaMins = drama.runtimeMinutes.copy()\n",
    "comedyMins = comedy.runtimeMinutes.copy()\n",
    "#both = pd.concat([dramaMins, comedyMins],ignore_index=True, axis=1)\n",
    "dramaMins.plot.hist(bins=30, label='Drama', legend=True)\n",
    "comedyMins.plot.hist(bins=30, label='Comedy', legend=True)"
   ],
   "metadata": {
    "collapsed": false,
    "pycharm": {
     "name": "#%%\n"
    }
   }
  },
  {
   "cell_type": "code",
   "execution_count": 19,
   "outputs": [
    {
     "name": "stdout",
     "output_type": "stream",
     "text": [
      "test statistic: 2.778357810486439, p-value: 0.005511018394724771\n"
     ]
    }
   ],
   "source": [
    "#2 sample t-test\n",
    "[statisticInclude, pvalueInclude] = stats.ttest_ind(dramaMins, comedyMins)\n",
    "print(f'test statistic: {statisticInclude}, p-value: {pvalueInclude}')"
   ],
   "metadata": {
    "collapsed": false,
    "pycharm": {
     "name": "#%%\n"
    }
   }
  },
  {
   "cell_type": "code",
   "execution_count": 20,
   "outputs": [],
   "source": [
    "#Filtering only dramas\n",
    "dramaOnly = movies[movies.genres == 'Drama']"
   ],
   "metadata": {
    "collapsed": false,
    "pycharm": {
     "name": "#%%\n"
    }
   }
  },
  {
   "cell_type": "code",
   "execution_count": 21,
   "outputs": [],
   "source": [
    "#Filtering only comedies\n",
    "comedyOnly = movies[movies.genres == 'Comedy']"
   ],
   "metadata": {
    "collapsed": false,
    "pycharm": {
     "name": "#%%\n"
    }
   }
  },
  {
   "cell_type": "code",
   "execution_count": 22,
   "outputs": [
    {
     "name": "stdout",
     "output_type": "stream",
     "text": [
      "Drama only mean runtime: 92.31818181818181\n",
      "Comedy only mean runtime: 90.392\n"
     ]
    },
    {
     "data": {
      "text/plain": "<Figure size 432x288 with 1 Axes>",
      "image/png": "[encoded data removed]"
     },
     "metadata": {
      "needs_background": "light"
     },
     "output_type": "display_data"
    }
   ],
   "source": [
    "#Plot series as histograms\n",
    "dramaOnlyMins = dramaOnly.runtimeMinutes.copy()\n",
    "comedyOnlyMins = comedyOnly.runtimeMinutes.copy()\n",
    "#both = pd.concat([dramaMins, comedyMins],ignore_index=True, axis=1)\n",
    "dramaOnlyMins.plot.hist(bins=30, label='Drama Only', legend=True)\n",
    "comedyOnlyMins.plot.hist(bins=30, label='Comedy Only', legend=True)\n",
    "print('Drama only mean runtime:', dramaOnlyMins.mean())\n",
    "print('Comedy only mean runtime:', comedyOnlyMins.mean())"
   ],
   "metadata": {
    "collapsed": false,
    "pycharm": {
     "name": "#%%\n"
    }
   }
  },
  {
   "cell_type": "code",
   "execution_count": 23,
   "outputs": [
    {
     "name": "stdout",
     "output_type": "stream",
     "text": [
      "test statistic: 1.1889029631451145, p-value: 0.23479639907741892\n"
     ]
    }
   ],
   "source": [
    "#2 sample t-test\n",
    "[statisticOnly, pvalueOnly] = stats.ttest_ind(dramaOnlyMins, comedyOnlyMins)\n",
    "print(f'test statistic: {statisticOnly}, p-value: {pvalueOnly}')"
   ],
   "metadata": {
    "collapsed": false,
    "pycharm": {
     "name": "#%%\n"
    }
   }
  }
 ],
 "metadata": {
  "kernelspec": {
   "display_name": "Python 3",
   "language": "python",
   "name": "python3"
  },
  "language_info": {
   "codemirror_mode": {
    "name": "ipython",
    "version": 2
   },
   "file_extension": ".py",
   "mimetype": "text/x-python",
   "name": "python",
   "nbconvert_exporter": "python",
   "pygments_lexer": "ipython2",
   "version": "2.7.6"
  }
 },
 "nbformat": 4,
 "nbformat_minor": 0
}