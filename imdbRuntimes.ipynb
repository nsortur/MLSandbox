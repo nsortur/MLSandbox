{
 "cells": [
  {
   "cell_type": "code",
   "execution_count": 24,
   "outputs": [],
   "source": [
    "#Compare runtime of drama vs comedy movie distributions, imdb dataset\n",
    "import pandas as pd\n",
    "import random\n",
    "from scipy import stats\n",
    "\n",
    "#Get random data from 1% of the file\n",
    "readProportion = 0.5\n",
    "data = pd.read_table('https://datasets.imdbws.com/title.basics.tsv.gz',\n",
    "                    header=0, skiprows=lambda i: i > 0 and random.random() > readProportion,\n",
    "                    sep='\\t')\n",
    "data = data.sample(frac=1)\n",
    "#Rids empty entries\n",
    "dataFull = data[(data.runtimeMinutes != r'\\N') & (data.runtimeMinutes.str.isnumeric())].copy()\n",
    "#Converts runtime minutes from string to int\n",
    "dataFull.loc[:, 'runtimeMinutes'] = dataFull.runtimeMinutes.astype(int)\n",
    "#Movies, ignoring outliers\n",
    "movies = dataFull[(dataFull.titleType == 'movie') & (dataFull.runtimeMinutes < 400)]"
   ],
   "metadata": {
    "collapsed": false,
    "pycharm": {
     "name": "#%%\n"
    }
   }
  },
  {
   "cell_type": "code",
   "execution_count": 25,
   "outputs": [],
   "source": [
    "#Filtering dramas\n",
    "drama = movies[movies.genres.str.contains('Drama')]"
   ],
   "metadata": {
    "collapsed": false,
    "pycharm": {
     "name": "#%%\n"
    }
   }
  },
  {
   "cell_type": "code",
   "execution_count": 26,
   "outputs": [],
   "source": [
    "#Filtering comedies\n",
    "comedy = movies[movies.genres.str.contains('Comedy')]"
   ],
   "metadata": {
    "collapsed": false,
    "pycharm": {
     "name": "#%%\n"
    }
   }
  },
  {
   "cell_type": "code",
   "execution_count": 27,
   "outputs": [
    {
     "data": {
      "text/plain": "<matplotlib.axes._subplots.AxesSubplot at 0x1a4b31b350>"
     },
     "execution_count": 27,
     "metadata": {},
     "output_type": "execute_result"
    },
    {
     "data": {
      "text/plain": "<Figure size 432x288 with 1 Axes>",
      "image/png": "[encoded data removed]"
     },
     "metadata": {
      "needs_background": "light"
     },
     "output_type": "display_data"
    }
   ],
   "source": [
    "#Plot series as histograms\n",
    "dramaMins = drama.runtimeMinutes.copy()\n",
    "comedyMins = comedy.runtimeMinutes.copy()\n",
    "#both = pd.concat([dramaMins, comedyMins],ignore_index=True, axis=1)\n",
    "dramaMins.plot.hist(bins=30, label='Drama', legend=True)\n",
    "comedyMins.plot.hist(bins=30, label='Comedy', legend=True)"
   ],
   "metadata": {
    "collapsed": false,
    "pycharm": {
     "name": "#%%\n"
    }
   }
  },
  {
   "cell_type": "code",
   "execution_count": 28,
   "outputs": [
    {
     "name": "stdout",
     "output_type": "stream",
     "text": [
      "test statistic: 20.550122522732657, p-value: 1.177745731895851e-93\n"
     ]
    }
   ],
   "source": [
    "#2 sample t-test\n",
    "[statisticInclude, pvalueInclude] = stats.ttest_ind(dramaMins, comedyMins)\n",
    "print(f'test statistic: {statisticInclude}, p-value: {pvalueInclude}')"
   ],
   "metadata": {
    "collapsed": false,
    "pycharm": {
     "name": "#%%\n"
    }
   }
  },
  {
   "cell_type": "code",
   "execution_count": 36,
   "outputs": [
    {
     "name": "stdout",
     "output_type": "stream",
     "text": [
      "Drama:\n",
      " count    68322.000000\n",
      "mean        95.261746\n",
      "std         25.165744\n",
      "min          2.000000\n",
      "25%         82.000000\n",
      "50%         93.000000\n",
      "75%        106.000000\n",
      "max        378.000000\n",
      "Name: runtimeMinutes, dtype: float64\n",
      "Comedy:\n",
      " count    36072.000000\n",
      "mean        92.091761\n",
      "std         20.644443\n",
      "min          1.000000\n",
      "25%         82.000000\n",
      "50%         90.000000\n",
      "75%        100.000000\n",
      "max        385.000000\n",
      "Name: runtimeMinutes, dtype: float64\n"
     ]
    }
   ],
   "source": [
    "#Detailed statistics\n",
    "print('Drama:\\n', dramaMins.describe())\n",
    "print('Comedy:\\n', comedyMins.describe())"
   ],
   "metadata": {
    "collapsed": false,
    "pycharm": {
     "name": "#%%\n"
    }
   }
  },
  {
   "cell_type": "code",
   "execution_count": 29,
   "outputs": [],
   "source": [
    "#Filtering only dramas\n",
    "dramaOnly = movies[movies.genres == 'Drama']"
   ],
   "metadata": {
    "collapsed": false,
    "pycharm": {
     "name": "#%%\n"
    }
   }
  },
  {
   "cell_type": "code",
   "execution_count": 30,
   "outputs": [],
   "source": [
    "#Filtering only comedies\n",
    "comedyOnly = movies[movies.genres == 'Comedy']"
   ],
   "metadata": {
    "collapsed": false,
    "pycharm": {
     "name": "#%%\n"
    }
   }
  },
  {
   "cell_type": "code",
   "execution_count": 31,
   "outputs": [
    {
     "data": {
      "text/plain": "<matplotlib.axes._subplots.AxesSubplot at 0x1a1b7e0310>"
     },
     "execution_count": 31,
     "metadata": {},
     "output_type": "execute_result"
    },
    {
     "data": {
      "text/plain": "<Figure size 432x288 with 1 Axes>",
      "image/png": "[encoded data removed]"
     },
     "metadata": {
      "needs_background": "light"
     },
     "output_type": "display_data"
    }
   ],
   "source": [
    "#Plot series as histograms\n",
    "dramaOnlyMins = dramaOnly.runtimeMinutes.copy()\n",
    "comedyOnlyMins = comedyOnly.runtimeMinutes.copy()\n",
    "#both = pd.concat([dramaMins, comedyMins],ignore_index=True, axis=1)\n",
    "dramaOnlyMins.plot.hist(bins=30, label='Drama Only', legend=True)\n",
    "comedyOnlyMins.plot.hist(bins=30, label='Comedy Only', legend=True)"
   ],
   "metadata": {
    "collapsed": false,
    "pycharm": {
     "name": "#%%\n"
    }
   }
  },
  {
   "cell_type": "code",
   "execution_count": 32,
   "outputs": [
    {
     "name": "stdout",
     "output_type": "stream",
     "text": [
      "test statistic: 16.13399824669848, p-value: 2.196912147673971e-58\n"
     ]
    }
   ],
   "source": [
    "#2 sample t-test\n",
    "[statisticOnly, pvalueOnly] = stats.ttest_ind(dramaOnlyMins, comedyOnlyMins)\n",
    "print(f'test statistic: {statisticOnly}, p-value: {pvalueOnly}')"
   ],
   "metadata": {
    "collapsed": false,
    "pycharm": {
     "name": "#%%\n"
    }
   }
  },
  {
   "cell_type": "code",
   "execution_count": 35,
   "outputs": [
    {
     "name": "stdout",
     "output_type": "stream",
     "text": [
      "Drama only:\n",
      " count    29130.000000\n",
      "mean        93.871953\n",
      "std         23.787791\n",
      "min          3.000000\n",
      "25%         81.000000\n",
      "50%         91.000000\n",
      "75%        105.000000\n",
      "max        378.000000\n",
      "Name: runtimeMinutes, dtype: float64\n",
      "Comedy only:\n",
      " count    13310.000000\n",
      "mean        90.127348\n",
      "std         18.186003\n",
      "min          2.000000\n",
      "25%         82.000000\n",
      "50%         90.000000\n",
      "75%         98.000000\n",
      "max        360.000000\n",
      "Name: runtimeMinutes, dtype: float64\n"
     ]
    }
   ],
   "source": [
    "#Detailed statistics\n",
    "print('Drama only:\\n', dramaOnlyMins.describe())\n",
    "print('Comedy only:\\n', comedyOnlyMins.describe())"
   ],
   "metadata": {
    "collapsed": false,
    "pycharm": {
     "name": "#%%\n"
    }
   }
  }
 ],
 "metadata": {
  "kernelspec": {
   "display_name": "Python 3",
   "language": "python",
   "name": "python3"
  },
  "language_info": {
   "codemirror_mode": {
    "name": "ipython",
    "version": 2
   },
   "file_extension": ".py",
   "mimetype": "text/x-python",
   "name": "python",
   "nbconvert_exporter": "python",
   "pygments_lexer": "ipython2",
   "version": "2.7.6"
  }
 },
 "nbformat": 4,
 "nbformat_minor": 0
}