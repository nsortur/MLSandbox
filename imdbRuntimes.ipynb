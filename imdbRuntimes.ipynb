{
 "cells": [
  {
   "cell_type": "code",
   "execution_count": 184,
   "metadata": {
    "collapsed": true,
    "pycharm": {
     "name": "#%%\n"
    }
   },
   "outputs": [],
   "source": [
    "#Compare runtime of drama vs comedy movie distributions, imdb dataset\n",
    "import pandas as pd\n",
    "import random\n",
    "\n",
    "#Get random data from 1% of the file\n",
    "readProportion = 0.01\n",
    "data = pd.read_table('https://datasets.imdbws.com/title.basics.tsv.gz',\n",
    "                    header=0, skiprows=lambda i: i > 0 and random.random() > readProportion,\n",
    "                    sep='\\t')\n",
    "data = data.sample(frac=1)\n",
    "#Rids empty entries\n",
    "dataFull = data[data.runtimeMinutes != r'\\N'].copy()\n",
    "#Converts runtime minutes from string to int\n",
    "dataFull.loc[:, 'runtimeMinutes'] = dataFull.runtimeMinutes.astype(int)\n",
    "#Movies, ignoring outliers\n",
    "movies = dataFull[(dataFull.titleType == 'movie') & (dataFull.runtimeMinutes < 400)]"
   ]
  },
  {
   "cell_type": "code",
   "execution_count": 185,
   "outputs": [],
   "source": [
    "#Filtering dramas\n",
    "drama = movies[movies.genres.str.contains('Drama')]"
   ],
   "metadata": {
    "collapsed": false,
    "pycharm": {
     "name": "#%%\n"
    }
   }
  },
  {
   "cell_type": "code",
   "execution_count": 186,
   "outputs": [],
   "source": [
    "#Filtering comedies\n",
    "comedy = movies[movies.genres.str.contains('Comedy')]"
   ],
   "metadata": {
    "collapsed": false,
    "pycharm": {
     "name": "#%%\n"
    }
   }
  },
  {
   "cell_type": "code",
   "execution_count": 203,
   "outputs": [
    {
     "name": "stdout",
     "output_type": "stream",
     "text": [
      "Drama mean runtime: 94.07766990291262\n",
      "Comedy mean runtime: 93.30923694779116\n"
     ]
    },
    {
     "data": {
      "text/plain": "<Figure size 432x288 with 1 Axes>",
      "image/png": "[encoded data removed]"
     },
     "metadata": {
      "needs_background": "light"
     },
     "output_type": "display_data"
    }
   ],
   "source": [
    "#Plot series as histograms\n",
    "dramaMins = drama.runtimeMinutes.copy()\n",
    "comedyMins = comedy.runtimeMinutes.copy()\n",
    "#both = pd.concat([dramaMins, comedyMins],ignore_index=True, axis=1)\n",
    "dramaMins.plot.hist(bins=30, label='Drama', legend=True)\n",
    "comedyMins.plot.hist(bins=30, label='Comedy', legend=True)\n",
    "print('Drama mean runtime:', dramaMins.mean())\n",
    "print('Comedy mean runtime:', comedyMins.mean())"
   ],
   "metadata": {
    "collapsed": false,
    "pycharm": {
     "name": "#%%\n"
    }
   }
  },
  {
   "cell_type": "code",
   "execution_count": 196,
   "outputs": [],
   "source": [
    "#Filtering only dramas\n",
    "dramaOnly = movies[movies.genres == 'Drama']"
   ],
   "metadata": {
    "collapsed": false,
    "pycharm": {
     "name": "#%%\n"
    }
   }
  },
  {
   "cell_type": "code",
   "execution_count": 197,
   "outputs": [],
   "source": [
    "#Filtering only comedies\n",
    "comedyOnly = movies[movies.genres == 'Comedy']"
   ],
   "metadata": {
    "collapsed": false,
    "pycharm": {
     "name": "#%%\n"
    }
   }
  },
  {
   "cell_type": "code",
   "execution_count": 202,
   "outputs": [
    {
     "name": "stdout",
     "output_type": "stream",
     "text": [
      "Drama only mean runtime: 94.5877034358047\n",
      "Comedy only mean runtime: 93.53763440860214\n"
     ]
    },
    {
     "data": {
      "text/plain": "<Figure size 432x288 with 1 Axes>",
      "image/png": "[encoded data removed]"
     },
     "metadata": {
      "needs_background": "light"
     },
     "output_type": "display_data"
    }
   ],
   "source": [
    "#Plot series as histograms\n",
    "dramaOnlyMins = dramaOnly.runtimeMinutes.copy()\n",
    "comedyOnlyMins = comedyOnly.runtimeMinutes.copy()\n",
    "#both = pd.concat([dramaMins, comedyMins],ignore_index=True, axis=1)\n",
    "dramaOnlyMins.plot.hist(bins=30, label='Drama Only', legend=True)\n",
    "comedyOnlyMins.plot.hist(bins=30, label='Comedy Only', legend=True)\n",
    "print('Drama only mean runtime:', dramaOnlyMins.mean())\n",
    "print('Comedy only mean runtime:', comedyOnlyMins.mean())"
   ],
   "metadata": {
    "collapsed": false,
    "pycharm": {
     "name": "#%%\n"
    }
   }
  }
 ],
 "metadata": {
  "kernelspec": {
   "display_name": "Python 3",
   "language": "python",
   "name": "python3"
  },
  "language_info": {
   "codemirror_mode": {
    "name": "ipython",
    "version": 2
   },
   "file_extension": ".py",
   "mimetype": "text/x-python",
   "name": "python",
   "nbconvert_exporter": "python",
   "pygments_lexer": "ipython2",
   "version": "2.7.6"
  }
 },
 "nbformat": 4,
 "nbformat_minor": 0
}