{
 "cells": [
  {
   "cell_type": "code",
   "execution_count": 183,
   "metadata": {
    "collapsed": true,
    "pycharm": {
     "name": "#%%\n"
    }
   },
   "outputs": [],
   "source": [
    "#Compare runtimes of drama vs comedy movies, imdb dataset\n",
    "import pandas as pd\n",
    "import random\n",
    "\n",
    "#Get random data from 1% of the file\n",
    "readProportion = 0.01\n",
    "data = pd.read_table('https://datasets.imdbws.com/title.basics.tsv.gz',\n",
    "                    header=0, skiprows=lambda i: i > 0 and random.random() > readProportion,\n",
    "                    sep='\\t')\n",
    "data = data.sample(frac=1)\n",
    "#rids empty entries\n",
    "dataFull = data[data.runtimeMinutes != r'\\N'].copy()\n",
    "#Converts runtime minutes from string to int\n",
    "dataFull.loc[:, 'runtimeMinutes'] = dataFull.runtimeMinutes.astype(int)\n",
    "#movies\n",
    "movies = dataFull[dataFull.titleType == 'movie']"
   ]
  },
  {
   "cell_type": "code",
   "execution_count": 180,
   "outputs": [],
   "source": [
    "#Filtering dramas\n",
    "drama = movies[movies.genres.str.contains('Drama')]"
   ],
   "metadata": {
    "collapsed": false,
    "pycharm": {
     "name": "#%%\n"
    }
   }
  },
  {
   "cell_type": "code",
   "execution_count": 181,
   "outputs": [],
   "source": [
    "#Filtering comedies\n",
    "comedy = movies[movies.genres.str.contains('Comedy')]"
   ],
   "metadata": {
    "collapsed": false,
    "pycharm": {
     "name": "#%%\n"
    }
   }
  },
  {
   "cell_type": "code",
   "execution_count": 182,
   "outputs": [
    {
     "data": {
      "text/plain": "<matplotlib.axes._subplots.AxesSubplot at 0x125ff4910>"
     },
     "execution_count": 182,
     "metadata": {},
     "output_type": "execute_result"
    },
    {
     "data": {
      "text/plain": "<Figure size 432x288 with 1 Axes>",
      "image/png": "[encoded data removed]"
     },
     "metadata": {
      "needs_background": "light"
     },
     "output_type": "display_data"
    }
   ],
   "source": [
    "#Plot series as histograms\n",
    "dramaMins = drama.runtimeMinutes.copy()\n",
    "comedyMins = comedy.runtimeMinutes.copy()\n",
    "#both = pd.concat([dramaMins, comedyMins],ignore_index=True, axis=1)\n",
    "dramaMins.plot.hist(bins=30)\n",
    "comedyMins.plot.hist(bins=30)"
   ],
   "metadata": {
    "collapsed": false,
    "pycharm": {
     "name": "#%%\n"
    }
   }
  }
 ],
 "metadata": {
  "kernelspec": {
   "display_name": "Python 3",
   "language": "python",
   "name": "python3"
  },
  "language_info": {
   "codemirror_mode": {
    "name": "ipython",
    "version": 2
   },
   "file_extension": ".py",
   "mimetype": "text/x-python",
   "name": "python",
   "nbconvert_exporter": "python",
   "pygments_lexer": "ipython2",
   "version": "2.7.6"
  }
 },
 "nbformat": 4,
 "nbformat_minor": 0
}