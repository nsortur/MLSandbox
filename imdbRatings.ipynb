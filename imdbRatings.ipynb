{
 "cells": [
  {
   "cell_type": "code",
   "execution_count": 1,
   "metadata": {
    "collapsed": true
   },
   "outputs": [],
   "source": [
    "# This notebook processes and stores a dataset with\n",
    "# actor/actress names, titles, and ratings\n",
    "\n",
    "import pandas as pd\n",
    "import random\n",
    "import numpy as np\n",
    "from ast import literal_eval"
   ]
  },
  {
   "cell_type": "code",
   "execution_count": 2,
   "outputs": [],
   "source": [
    "#Read ratings dataset\n",
    "ratings = pd.read_table('https://datasets.imdbws.com/title.ratings.tsv.gz', sep='\\t')"
   ],
   "metadata": {
    "collapsed": false,
    "pycharm": {
     "name": "#%%\n"
    }
   }
  },
  {
   "cell_type": "code",
   "execution_count": 3,
   "outputs": [],
   "source": [
    "#Get names for each titleid\n",
    "names = pd.read_table('https://datasets.imdbws.com/name.basics.tsv.gz', sep='\\t')"
   ],
   "metadata": {
    "collapsed": false,
    "pycharm": {
     "name": "#%%\n"
    }
   }
  },
  {
   "cell_type": "code",
   "execution_count": 4,
   "outputs": [],
   "source": [
    "#Filter to only actors and actresses\n",
    "namesAct = names[names.primaryProfession.str.contains('actor|actress', na=False)]"
   ],
   "metadata": {
    "collapsed": false,
    "pycharm": {
     "name": "#%%\n"
    }
   }
  },
  {
   "cell_type": "code",
   "execution_count": 5,
   "outputs": [],
   "source": [
    "#Make titles known for into list\n",
    "titlesKnown = namesAct.knownForTitles.copy().str.split(pat=',')"
   ],
   "metadata": {
    "collapsed": false,
    "pycharm": {
     "name": "#%%\n"
    }
   }
  },
  {
   "cell_type": "code",
   "execution_count": 6,
   "outputs": [],
   "source": [
    "#Creates actor and titles dataframe\n",
    "nameTitles = pd.concat([titlesKnown, namesAct.nconst],\n",
    "          ignore_index=True, axis=1)\n",
    "nameTitles.rename(columns={0:'tconst', 1:'nameID'}, inplace=True)"
   ],
   "metadata": {
    "collapsed": false,
    "pycharm": {
     "name": "#%%\n"
    }
   }
  },
  {
   "cell_type": "code",
   "execution_count": 7,
   "outputs": [],
   "source": [
    "#Read title basics dataset\n",
    "titles = pd.read_table(\"https://datasets.imdbws.com/title.basics.tsv.gz\", sep=\"\\t\")"
   ],
   "metadata": {
    "collapsed": false,
    "pycharm": {
     "name": "#%%\n"
    }
   }
  },
  {
   "cell_type": "code",
   "execution_count": 8,
   "outputs": [],
   "source": [
    "movies = titles[titles.titleType == 'movie'].copy()"
   ],
   "metadata": {
    "collapsed": false,
    "pycharm": {
     "name": "#%%\n"
    }
   }
  },
  {
   "cell_type": "code",
   "execution_count": 9,
   "outputs": [],
   "source": [
    "deleteCols = ['originalTitle',\n",
    "              'isAdult',\n",
    "              'startYear',\n",
    "              'endYear',\n",
    "              'runtimeMinutes',\n",
    "              'genres',\n",
    "              'titleType']\n",
    "movies.drop(deleteCols, axis=1, inplace=True)"
   ],
   "metadata": {
    "collapsed": false,
    "pycharm": {
     "name": "#%%\n"
    }
   }
  },
  {
   "cell_type": "code",
   "execution_count": 10,
   "outputs": [],
   "source": [
    "# Some actors don't have 4 'famous for' movies\n",
    "def extract_movies(x, pos):\n",
    "    if pos >= len(x):\n",
    "        pass\n",
    "    else:\n",
    "        return x[pos]\n",
    "\n",
    "#Append nameIDs onto each tconst in \"movies\"\n",
    "firstTitle = nameTitles['tconst'].apply(extract_movies, pos=0)\n",
    "secondTitle = nameTitles['tconst'].apply(extract_movies, pos=1)\n",
    "thirdTitle = nameTitles['tconst'].apply(extract_movies, pos=2)\n",
    "fourthTitle = nameTitles['tconst'].apply(extract_movies, pos=3)"
   ],
   "metadata": {
    "collapsed": false,
    "pycharm": {
     "name": "#%%\n"
    }
   }
  },
  {
   "cell_type": "code",
   "execution_count": 11,
   "outputs": [],
   "source": [
    "# Connect titles with nameIDs\n",
    "# theres probably a more efficient way to do everything below\n",
    "\n",
    "firstTitleName = pd.concat([firstTitle, nameTitles['nameID']], axis=1)\n",
    "secondTitleName = pd.concat([secondTitle, nameTitles['nameID']], axis=1)\n",
    "thirdTitleName = pd.concat([thirdTitle, nameTitles['nameID']], axis=1)\n",
    "fourthTitleName = pd.concat([fourthTitle, nameTitles['nameID']], axis=1)"
   ],
   "metadata": {
    "collapsed": false,
    "pycharm": {
     "name": "#%%\n"
    }
   }
  },
  {
   "cell_type": "code",
   "execution_count": 12,
   "outputs": [],
   "source": [
    "# Populate movies with actors for each one\n",
    "# Preserve movies with left merge\n",
    "\n",
    "nameTitleFirst = movies.merge(firstTitleName, on='tconst', how='left')"
   ],
   "metadata": {
    "collapsed": false,
    "pycharm": {
     "name": "#%%\n"
    }
   }
  },
  {
   "cell_type": "code",
   "execution_count": 13,
   "outputs": [],
   "source": [
    "allMoviesNames = nameTitleFirst.groupby('tconst').nameID.apply(list).reset_index()"
   ],
   "metadata": {
    "collapsed": false,
    "pycharm": {
     "name": "#%%\n"
    }
   }
  },
  {
   "cell_type": "code",
   "execution_count": 14,
   "outputs": [],
   "source": [
    "secondTitleNameGrp = secondTitleName.groupby(['tconst']).nameID.apply(list).reset_index()\n",
    "thirdTitleNameGrp = thirdTitleName.groupby(['tconst']).nameID.apply(list).reset_index()\n",
    "fourthTitleNameGrp = fourthTitleName.groupby(['tconst']).nameID.apply(list).reset_index()"
   ],
   "metadata": {
    "collapsed": false,
    "pycharm": {
     "name": "#%%\n"
    }
   }
  },
  {
   "cell_type": "code",
   "execution_count": 15,
   "outputs": [],
   "source": [
    "# Merges in names, skips names who aren't in movies (who are in tv shows, short films, etc.)\n",
    "\n",
    "test = allMoviesNames.merge(secondTitleNameGrp, on='tconst', how='left')\n",
    "test2 = test.merge(thirdTitleNameGrp, on='tconst', how='left')\n",
    "allMoviesNames = test2.merge(fourthTitleNameGrp, on='tconst', how='left')"
   ],
   "metadata": {
    "collapsed": false,
    "pycharm": {
     "name": "#%%\n"
    }
   }
  },
  {
   "cell_type": "code",
   "execution_count": 16,
   "outputs": [],
   "source": [
    "# Rename columns and merge into one\n",
    "allMoviesNames.columns = ['tconst', 'nameID1', 'nameID2', 'nameID3', 'nameID4']\n",
    "allMoviesNames['names'] = pd.Series(allMoviesNames[['nameID1', 'nameID2', 'nameID3', 'nameID4']].values.tolist())\n",
    "allMoviesNames.drop(['nameID1', 'nameID2', 'nameID3', 'nameID4'], axis=1, inplace=True)"
   ],
   "metadata": {
    "collapsed": false,
    "pycharm": {
     "name": "#%%\n"
    }
   }
  },
  {
   "cell_type": "code",
   "execution_count": 17,
   "outputs": [],
   "source": [
    "# Merge ratings with movies and names\n",
    "ratings.drop(columns=['numVotes'], inplace=True)"
   ],
   "metadata": {
    "collapsed": false,
    "pycharm": {
     "name": "#%%\n"
    }
   }
  },
  {
   "cell_type": "code",
   "execution_count": 18,
   "outputs": [],
   "source": [
    "allMoviesNamesRatings = allMoviesNames.merge(ratings, on='tconst', how='left')"
   ],
   "metadata": {
    "collapsed": false,
    "pycharm": {
     "name": "#%%\n"
    }
   }
  },
  {
   "cell_type": "code",
   "execution_count": 19,
   "outputs": [],
   "source": [
    "# Remove movies without ratings\n",
    "moviesNamesRatings = allMoviesNamesRatings[allMoviesNamesRatings.averageRating.notnull()]"
   ],
   "metadata": {
    "collapsed": false,
    "pycharm": {
     "name": "#%%\n"
    }
   }
  },
  {
   "cell_type": "code",
   "execution_count": 20,
   "outputs": [],
   "source": [
    "#Simplify array in 'names'\n",
    "def simplify(x):\n",
    "    x = repr(x)\n",
    "    comSep = x.replace('[', '').replace(']', '').replace('\\'', '')\n",
    "    return comSep\n",
    "\n",
    "test = moviesNamesRatings.names.apply(simplify)"
   ],
   "metadata": {
    "collapsed": false,
    "pycharm": {
     "name": "#%%\n"
    }
   }
  }
 ],
 "metadata": {
  "kernelspec": {
   "display_name": "Python 3",
   "language": "python",
   "name": "python3"
  },
  "language_info": {
   "codemirror_mode": {
    "name": "ipython",
    "version": 2
   },
   "file_extension": ".py",
   "mimetype": "text/x-python",
   "name": "python",
   "nbconvert_exporter": "python",
   "pygments_lexer": "ipython2",
   "version": "2.7.6"
  }
 },
 "nbformat": 4,
 "nbformat_minor": 0
}