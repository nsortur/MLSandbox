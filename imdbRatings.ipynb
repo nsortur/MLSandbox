{
 "cells": [
  {
   "cell_type": "code",
   "execution_count": 1,
   "metadata": {
    "collapsed": true
   },
   "outputs": [],
   "source": [
    "import pandas as pd\n",
    "import random\n",
    "\n",
    "#Read 1% of dataset\n",
    "readProportion = 0.01\n",
    "data = pd.read_table('https://datasets.imdbws.com/title.ratings.tsv.gz',\n",
    "              header=0, skiprows=lambda x: x > 0 and random.random() > readProportion,\n",
    "              sep='\\t')"
   ]
  },
  {
   "cell_type": "code",
   "execution_count": 2,
   "outputs": [],
   "source": [
    "#Get names for each titleid\n",
    "names = pd.read_table('https://datasets.imdbws.com/name.basics.tsv.gz', sep='\\t')"
   ],
   "metadata": {
    "collapsed": false,
    "pycharm": {
     "name": "#%%\n"
    }
   }
  },
  {
   "cell_type": "code",
   "execution_count": 3,
   "outputs": [],
   "source": [
    "#Make titles known for into list\n",
    "titlesKnown = names.knownForTitles.copy().str.split(pat=',')"
   ],
   "metadata": {
    "collapsed": false,
    "pycharm": {
     "name": "#%%\n"
    }
   }
  },
  {
   "cell_type": "code",
   "execution_count": 10,
   "outputs": [],
   "source": [
    "#Creates actor and titles dataframe\n",
    "nameTitles = pd.concat([names.nconst, titlesKnown],\n",
    "          ignore_index=True, axis=1)"
   ],
   "metadata": {
    "collapsed": false,
    "pycharm": {
     "name": "#%%\n"
    }
   }
  }
 ],
 "metadata": {
  "kernelspec": {
   "display_name": "Python 3",
   "language": "python",
   "name": "python3"
  },
  "language_info": {
   "codemirror_mode": {
    "name": "ipython",
    "version": 2
   },
   "file_extension": ".py",
   "mimetype": "text/x-python",
   "name": "python",
   "nbconvert_exporter": "python",
   "pygments_lexer": "ipython2",
   "version": "2.7.6"
  }
 },
 "nbformat": 4,
 "nbformat_minor": 0
}