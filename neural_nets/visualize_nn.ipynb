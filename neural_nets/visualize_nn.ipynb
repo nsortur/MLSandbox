{
 "cells": [
  {
   "cell_type": "code",
   "execution_count": 34,
   "metadata": {
    "collapsed": true
   },
   "outputs": [],
   "source": [
    "import numpy as np\n",
    "import nn_interface\n",
    "import matplotlib.pyplot as plt\n",
    "from sklearn import datasets, preprocessing, linear_model"
   ]
  },
  {
   "cell_type": "code",
   "execution_count": 35,
   "outputs": [],
   "source": [
    "# Compare linear regression with basic regression neural net\n",
    "m_train = 6\n",
    "m_cv = 6\n",
    "\n",
    "house_sk_train = [[240],[260],[360],[420],[350],[285]]\n",
    "house_sk_target = [1200,1400,2600,2700,2400,1450]\n",
    "\n",
    "house_sk_cv_target = [1400, 1600, 2000, 2400, 2600, 2200]\n",
    "house_sk_cv = [[250], [270], [289], [320], [400], [319]]\n",
    "\n",
    "house_sk_train_bias = np.column_stack([np.ones((m_train, 1)), house_sk_train])\n",
    "house_sk_cv_bias = np.column_stack([np.ones((m_cv, 1)), house_sk_cv])"
   ],
   "metadata": {
    "collapsed": false,
    "pycharm": {
     "name": "#%%\n"
    }
   }
  },
  {
   "cell_type": "code",
   "execution_count": null,
   "outputs": [],
   "source": [
    "num_hid_units = 2\n",
    "num_features = 1\n",
    "a = 0.000000003\n",
    "\n",
    "# complete this using the code from nn_custom, then revert nn_custom"
   ],
   "metadata": {
    "collapsed": false,
    "pycharm": {
     "name": "#%%\n"
    }
   }
  },
  {
   "cell_type": "code",
   "execution_count": 22,
   "outputs": [
    {
     "name": "stdout",
     "output_type": "stream",
     "text": [
      "Coeffecient : [ 1.2162505  -4.41046199 37.92258348 17.37802103  9.12335973 -7.99544717], intercept: 152.58\n"
     ]
    },
    {
     "data": {
      "text/plain": "array([216.52962954])"
     },
     "execution_count": 22,
     "metadata": {},
     "output_type": "execute_result"
    }
   ],
   "source": [
    "regr = linear_model.LinearRegression()\n",
    "regr.fit(house_sk_train, house_sk_target)\n",
    "print(f'Coeffecient : {regr.coef_}, intercept: {regr.intercept_}')\n",
    "\n",
    "reg_cv_err = 0\n",
    "# Predict CV example and see average error\n",
    "#for x in range(0, m_cv):\n",
    "#    regr.predict(house_sk_cv[x, :].reshape((-1, 1)))\n",
    "print(f'Regression prediction: {regr.predict([house_sk_cv[0, :]])}')\n",
    "print(f'Neural net prediction: {nn_interface.predict([house_sk_cv[0, :]])}')"
   ],
   "metadata": {
    "collapsed": false,
    "pycharm": {
     "name": "#%%\n"
    }
   }
  }
 ],
 "metadata": {
  "kernelspec": {
   "display_name": "Python 3",
   "language": "python",
   "name": "python3"
  },
  "language_info": {
   "codemirror_mode": {
    "name": "ipython",
    "version": 2
   },
   "file_extension": ".py",
   "mimetype": "text/x-python",
   "name": "python",
   "nbconvert_exporter": "python",
   "pygments_lexer": "ipython2",
   "version": "2.7.6"
  }
 },
 "nbformat": 4,
 "nbformat_minor": 0
}