{
 "cells": [
  {
   "cell_type": "code",
   "execution_count": 34,
   "metadata": {
    "collapsed": true
   },
   "outputs": [],
   "source": [
    "import numpy as np\n",
    "import nn_interface\n",
    "import matplotlib.pyplot as plt\n",
    "from sklearn import datasets, preprocessing, linear_model"
   ]
  },
  {
   "cell_type": "code",
   "execution_count": 35,
   "outputs": [],
   "source": [
    "num_features = 6\n",
    "\n",
    "house_sk_data = datasets.load_diabetes()\n",
    "m_train = 400\n",
    "m_cv = 442 - m_train\n",
    "\n",
    "# training set\n",
    "house_sk_train = preprocessing.scale(house_sk_data.data[:m_train, :num_features])\n",
    "house_sk_train_bias = np.column_stack([np.ones((m_train, 1)), house_sk_train])\n",
    "\n",
    "# CV set\n",
    "house_sk_cv = preprocessing.scale(house_sk_data.data[m_train:, :num_features])\n",
    "house_sk_cv_bias = np.column_stack([np.ones((m_cv, 1)), house_sk_cv])\n",
    "\n",
    "# target set\n",
    "house_sk_target = house_sk_data.target[:m_train]\n",
    "house_sk_cv_target = house_sk_data.target[m_train:]"
   ],
   "metadata": {
    "collapsed": false,
    "pycharm": {
     "name": "#%%\n"
    }
   }
  },
  {
   "cell_type": "code",
   "execution_count": 36,
   "outputs": [
    {
     "ename": "TypeError",
     "evalue": "predict() takes 2 positional arguments but 3 were given",
     "output_type": "error",
     "traceback": [
      "\u001B[0;31m---------------------------------------------------------------------------\u001B[0m",
      "\u001B[0;31mTypeError\u001B[0m                                 Traceback (most recent call last)",
      "\u001B[0;32m<ipython-input-36-d3a6125b606d>\u001B[0m in \u001B[0;36m<module>\u001B[0;34m\u001B[0m\n\u001B[1;32m      8\u001B[0m \u001B[0;31m# Predict in training example and see average error\u001B[0m\u001B[0;34m\u001B[0m\u001B[0;34m\u001B[0m\u001B[0;34m\u001B[0m\u001B[0m\n\u001B[1;32m      9\u001B[0m \u001B[0;32mfor\u001B[0m \u001B[0my\u001B[0m \u001B[0;32min\u001B[0m \u001B[0mrange\u001B[0m\u001B[0;34m(\u001B[0m\u001B[0;36m0\u001B[0m\u001B[0;34m,\u001B[0m \u001B[0mm_train\u001B[0m\u001B[0;34m)\u001B[0m\u001B[0;34m:\u001B[0m\u001B[0;34m\u001B[0m\u001B[0;34m\u001B[0m\u001B[0m\n\u001B[0;32m---> 10\u001B[0;31m     \u001B[0mtot_err_train\u001B[0m \u001B[0;34m+=\u001B[0m \u001B[0mnn_interface\u001B[0m\u001B[0;34m.\u001B[0m\u001B[0mpredict\u001B[0m\u001B[0;34m(\u001B[0m\u001B[0my\u001B[0m\u001B[0;34m,\u001B[0m \u001B[0mhouse_sk_train_bias\u001B[0m\u001B[0;34m,\u001B[0m \u001B[0mhouse_sk_target\u001B[0m\u001B[0;34m)\u001B[0m\u001B[0;34m\u001B[0m\u001B[0;34m\u001B[0m\u001B[0m\n\u001B[0m\u001B[1;32m     11\u001B[0m \u001B[0;34m\u001B[0m\u001B[0m\n\u001B[1;32m     12\u001B[0m \u001B[0mprint\u001B[0m\u001B[0;34m(\u001B[0m\u001B[0;34m'=========CV-SET========='\u001B[0m\u001B[0;34m)\u001B[0m\u001B[0;34m\u001B[0m\u001B[0;34m\u001B[0m\u001B[0m\n",
      "\u001B[0;31mTypeError\u001B[0m: predict() takes 2 positional arguments but 3 were given"
     ]
    }
   ],
   "source": [
    "# Get neural net outputs\n",
    "\n",
    "# Train weights\n",
    "for z in range(0, m_train):\n",
    "    nn_interface.propagate(z)\n",
    "\n",
    "tot_err_train = 0\n",
    "# Predict in training example and see average error\n",
    "for y in range(0, m_train):\n",
    "    tot_err_train += nn_interface.predict(y, house_sk_train_bias, house_sk_target)\n",
    "\n",
    "print('=========CV-SET=========')\n",
    "tot_err = 0\n",
    "# Predict CV example and see average error\n",
    "for x in range(0, m_cv):\n",
    "    tot_err += nn_interface.predict(x, house_sk_cv_bias, house_sk_cv_target)\n",
    "\n",
    "print('MSE training ($): ', tot_err_train / m_train)\n",
    "print('MSE CV ($): ', tot_err / m_cv)"
   ],
   "metadata": {
    "collapsed": false,
    "pycharm": {
     "name": "#%%\n"
    }
   }
  },
  {
   "cell_type": "code",
   "execution_count": 22,
   "outputs": [
    {
     "name": "stdout",
     "output_type": "stream",
     "text": [
      "Coeffecient : [ 1.2162505  -4.41046199 37.92258348 17.37802103  9.12335973 -7.99544717], intercept: 152.58\n"
     ]
    },
    {
     "data": {
      "text/plain": "array([216.52962954])"
     },
     "execution_count": 22,
     "metadata": {},
     "output_type": "execute_result"
    }
   ],
   "source": [
    "regr = linear_model.LinearRegression()\n",
    "regr.fit(house_sk_train, house_sk_target)\n",
    "print(f'Coeffecient : {regr.coef_}, intercept: {regr.intercept_}')\n",
    "\n",
    "reg_cv_err = 0\n",
    "# Predict CV example and see average error\n",
    "#for x in range(0, m_cv):\n",
    "#    regr.predict(house_sk_cv[x, :].reshape((-1, 1)))\n",
    "print(f'Regression prediction: {regr.predict([house_sk_cv[0, :]])}')\n",
    "print(f'Neural net prediction: {nn_interface.predict([house_sk_cv[0, :]])}')"
   ],
   "metadata": {
    "collapsed": false,
    "pycharm": {
     "name": "#%%\n"
    }
   }
  }
 ],
 "metadata": {
  "kernelspec": {
   "display_name": "Python 3",
   "language": "python",
   "name": "python3"
  },
  "language_info": {
   "codemirror_mode": {
    "name": "ipython",
    "version": 2
   },
   "file_extension": ".py",
   "mimetype": "text/x-python",
   "name": "python",
   "nbconvert_exporter": "python",
   "pygments_lexer": "ipython2",
   "version": "2.7.6"
  }
 },
 "nbformat": 4,
 "nbformat_minor": 0
}